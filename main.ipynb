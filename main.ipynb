{
  "nbformat": 4,
  "nbformat_minor": 0,
  "metadata": {
    "colab": {
      "provenance": [],
      "gpuType": "T4"
    },
    "kernelspec": {
      "name": "python3",
      "display_name": "Python 3"
    },
    "language_info": {
      "name": "python"
    },
    "accelerator": "GPU"
  },
  "cells": [
    {
      "cell_type": "code",
      "source": [
        "!pip install librosa\n",
        "!pip install noisereduce\n",
        "!pip install scipy"
      ],
      "metadata": {
        "colab": {
          "base_uri": "https://localhost:8080/"
        },
        "id": "RXbm0PU8evUd",
        "outputId": "aba2931b-6725-4aec-edee-3fe1bc39a212"
      },
      "execution_count": 2,
      "outputs": [
        {
          "output_type": "stream",
          "name": "stdout",
          "text": [
            "Requirement already satisfied: librosa in /usr/local/lib/python3.11/dist-packages (0.10.2.post1)\n",
            "Requirement already satisfied: audioread>=2.1.9 in /usr/local/lib/python3.11/dist-packages (from librosa) (3.0.1)\n",
            "Requirement already satisfied: numpy!=1.22.0,!=1.22.1,!=1.22.2,>=1.20.3 in /usr/local/lib/python3.11/dist-packages (from librosa) (1.26.4)\n",
            "Requirement already satisfied: scipy>=1.2.0 in /usr/local/lib/python3.11/dist-packages (from librosa) (1.13.1)\n",
            "Requirement already satisfied: scikit-learn>=0.20.0 in /usr/local/lib/python3.11/dist-packages (from librosa) (1.6.1)\n",
            "Requirement already satisfied: joblib>=0.14 in /usr/local/lib/python3.11/dist-packages (from librosa) (1.4.2)\n",
            "Requirement already satisfied: decorator>=4.3.0 in /usr/local/lib/python3.11/dist-packages (from librosa) (4.4.2)\n",
            "Requirement already satisfied: numba>=0.51.0 in /usr/local/lib/python3.11/dist-packages (from librosa) (0.61.0)\n",
            "Requirement already satisfied: soundfile>=0.12.1 in /usr/local/lib/python3.11/dist-packages (from librosa) (0.13.1)\n",
            "Requirement already satisfied: pooch>=1.1 in /usr/local/lib/python3.11/dist-packages (from librosa) (1.8.2)\n",
            "Requirement already satisfied: soxr>=0.3.2 in /usr/local/lib/python3.11/dist-packages (from librosa) (0.5.0.post1)\n",
            "Requirement already satisfied: typing-extensions>=4.1.1 in /usr/local/lib/python3.11/dist-packages (from librosa) (4.12.2)\n",
            "Requirement already satisfied: lazy-loader>=0.1 in /usr/local/lib/python3.11/dist-packages (from librosa) (0.4)\n",
            "Requirement already satisfied: msgpack>=1.0 in /usr/local/lib/python3.11/dist-packages (from librosa) (1.1.0)\n",
            "Requirement already satisfied: packaging in /usr/local/lib/python3.11/dist-packages (from lazy-loader>=0.1->librosa) (24.2)\n",
            "Requirement already satisfied: llvmlite<0.45,>=0.44.0dev0 in /usr/local/lib/python3.11/dist-packages (from numba>=0.51.0->librosa) (0.44.0)\n",
            "Requirement already satisfied: platformdirs>=2.5.0 in /usr/local/lib/python3.11/dist-packages (from pooch>=1.1->librosa) (4.3.6)\n",
            "Requirement already satisfied: requests>=2.19.0 in /usr/local/lib/python3.11/dist-packages (from pooch>=1.1->librosa) (2.32.3)\n",
            "Requirement already satisfied: threadpoolctl>=3.1.0 in /usr/local/lib/python3.11/dist-packages (from scikit-learn>=0.20.0->librosa) (3.5.0)\n",
            "Requirement already satisfied: cffi>=1.0 in /usr/local/lib/python3.11/dist-packages (from soundfile>=0.12.1->librosa) (1.17.1)\n",
            "Requirement already satisfied: pycparser in /usr/local/lib/python3.11/dist-packages (from cffi>=1.0->soundfile>=0.12.1->librosa) (2.22)\n",
            "Requirement already satisfied: charset-normalizer<4,>=2 in /usr/local/lib/python3.11/dist-packages (from requests>=2.19.0->pooch>=1.1->librosa) (3.4.1)\n",
            "Requirement already satisfied: idna<4,>=2.5 in /usr/local/lib/python3.11/dist-packages (from requests>=2.19.0->pooch>=1.1->librosa) (3.10)\n",
            "Requirement already satisfied: urllib3<3,>=1.21.1 in /usr/local/lib/python3.11/dist-packages (from requests>=2.19.0->pooch>=1.1->librosa) (2.3.0)\n",
            "Requirement already satisfied: certifi>=2017.4.17 in /usr/local/lib/python3.11/dist-packages (from requests>=2.19.0->pooch>=1.1->librosa) (2025.1.31)\n",
            "Collecting noisereduce\n",
            "  Downloading noisereduce-3.0.3-py3-none-any.whl.metadata (14 kB)\n",
            "Requirement already satisfied: scipy in /usr/local/lib/python3.11/dist-packages (from noisereduce) (1.13.1)\n",
            "Requirement already satisfied: matplotlib in /usr/local/lib/python3.11/dist-packages (from noisereduce) (3.10.0)\n",
            "Requirement already satisfied: numpy in /usr/local/lib/python3.11/dist-packages (from noisereduce) (1.26.4)\n",
            "Requirement already satisfied: tqdm in /usr/local/lib/python3.11/dist-packages (from noisereduce) (4.67.1)\n",
            "Requirement already satisfied: joblib in /usr/local/lib/python3.11/dist-packages (from noisereduce) (1.4.2)\n",
            "Requirement already satisfied: contourpy>=1.0.1 in /usr/local/lib/python3.11/dist-packages (from matplotlib->noisereduce) (1.3.1)\n",
            "Requirement already satisfied: cycler>=0.10 in /usr/local/lib/python3.11/dist-packages (from matplotlib->noisereduce) (0.12.1)\n",
            "Requirement already satisfied: fonttools>=4.22.0 in /usr/local/lib/python3.11/dist-packages (from matplotlib->noisereduce) (4.55.8)\n",
            "Requirement already satisfied: kiwisolver>=1.3.1 in /usr/local/lib/python3.11/dist-packages (from matplotlib->noisereduce) (1.4.8)\n",
            "Requirement already satisfied: packaging>=20.0 in /usr/local/lib/python3.11/dist-packages (from matplotlib->noisereduce) (24.2)\n",
            "Requirement already satisfied: pillow>=8 in /usr/local/lib/python3.11/dist-packages (from matplotlib->noisereduce) (11.1.0)\n",
            "Requirement already satisfied: pyparsing>=2.3.1 in /usr/local/lib/python3.11/dist-packages (from matplotlib->noisereduce) (3.2.1)\n",
            "Requirement already satisfied: python-dateutil>=2.7 in /usr/local/lib/python3.11/dist-packages (from matplotlib->noisereduce) (2.8.2)\n",
            "Requirement already satisfied: six>=1.5 in /usr/local/lib/python3.11/dist-packages (from python-dateutil>=2.7->matplotlib->noisereduce) (1.17.0)\n",
            "Downloading noisereduce-3.0.3-py3-none-any.whl (22 kB)\n",
            "Installing collected packages: noisereduce\n",
            "Successfully installed noisereduce-3.0.3\n",
            "Requirement already satisfied: scipy in /usr/local/lib/python3.11/dist-packages (1.13.1)\n",
            "Requirement already satisfied: numpy<2.3,>=1.22.4 in /usr/local/lib/python3.11/dist-packages (from scipy) (1.26.4)\n"
          ]
        }
      ]
    },
    {
      "cell_type": "code",
      "source": [
        "import librosa\n",
        "import librosa.display\n",
        "import numpy as np\n",
        "import noisereduce as nr\n",
        "import scipy.signal as signal\n",
        "import soundfile as sf"
      ],
      "metadata": {
        "id": "iyg9JooJeeUj"
      },
      "execution_count": 3,
      "outputs": []
    },
    {
      "cell_type": "code",
      "execution_count": 4,
      "metadata": {
        "colab": {
          "base_uri": "https://localhost:8080/"
        },
        "id": "seXeM810edMQ",
        "outputId": "33cd7dff-ffab-45ca-ce02-730a1ae726d1"
      },
      "outputs": [
        {
          "output_type": "stream",
          "name": "stdout",
          "text": [
            "Processed audio saved as bird_sounds_extracted.wav\n"
          ]
        }
      ],
      "source": [
        "# Load the audio file\n",
        "file_path = \"/content/R1023_20231115_060003.wav\"  # Change this to your actual file path\n",
        "y, sr = librosa.load(file_path, sr=None)\n",
        "\n",
        "# Apply a Band-Pass Filter (Keep bird frequencies: ~1kHz to 8kHz)\n",
        "lowcut = 1000  # 1 kHz\n",
        "highcut = 8000  # 8 kHz\n",
        "\n",
        "def bandpass_filter(data, sr, lowcut, highcut, order=6):\n",
        "    nyquist = 0.5 * sr\n",
        "    low = lowcut / nyquist\n",
        "    high = highcut / nyquist\n",
        "    b, a = signal.butter(order, [low, high], btype=\"band\")\n",
        "    return signal.filtfilt(b, a, data)\n",
        "\n",
        "filtered_audio = bandpass_filter(y, sr, lowcut, highcut)\n",
        "\n",
        "# Noise Reduction using noisereduce\n",
        "reduced_noise = nr.reduce_noise(y=filtered_audio, sr=sr, prop_decrease=0.8)\n",
        "\n",
        "# Save the cleaned bird sound\n",
        "output_file = \"bird_sounds_extracted.wav\"\n",
        "sf.write(output_file, reduced_noise, sr)\n",
        "\n",
        "print(f\"Processed audio saved as {output_file}\")"
      ]
    },
    {
      "cell_type": "code",
      "source": [
        "print(sr)"
      ],
      "metadata": {
        "colab": {
          "base_uri": "https://localhost:8080/"
        },
        "id": "pGa4qC7FiU39",
        "outputId": "df1501bb-7e41-4ede-a51a-e7da9f0b0909"
      },
      "execution_count": 5,
      "outputs": [
        {
          "output_type": "stream",
          "name": "stdout",
          "text": [
            "32000\n"
          ]
        }
      ]
    },
    {
      "cell_type": "code",
      "source": [
        "import librosa\n",
        "import librosa.display\n",
        "import numpy as np\n",
        "import noisereduce as nr\n",
        "import scipy.signal as signal\n",
        "import soundfile as sf\n",
        "\n",
        "# Load the audio file\n",
        "file_path = \"/content/R1023_20231115_060003.wav\"  # Change this to your actual file path\n",
        "y, sr = librosa.load(file_path, sr=None)\n",
        "\n",
        "# Apply a Band-Pass Filter (Keep bird frequencies: ~1kHz to 8kHz)\n",
        "lowcut = 1000  # 1 kHz\n",
        "highcut = 8000  # 8 kHz\n",
        "\n",
        "def bandpass_filter(data, sr, lowcut, highcut, order=6):\n",
        "    nyquist = 0.5 * sr\n",
        "    low = lowcut / nyquist\n",
        "    high = highcut / nyquist\n",
        "    b, a = signal.butter(order, [low, high], btype=\"band\")\n",
        "    return signal.filtfilt(b, a, data)\n",
        "\n",
        "filtered_audio = bandpass_filter(y, sr, lowcut, highcut)\n",
        "\n",
        "# Stronger Noise Reduction using noisereduce\n",
        "reduced_noise = nr.reduce_noise(y=filtered_audio, sr=sr, prop_decrease=0.9)\n",
        "\n",
        "# Spectral Subtraction for further noise removal\n",
        "def spectral_subtraction(audio, noise_factor=0.05):\n",
        "    stft = librosa.stft(audio)\n",
        "    magnitude, phase = np.abs(stft), np.angle(stft)\n",
        "    noise_profile = np.mean(magnitude, axis=1, keepdims=True) * noise_factor\n",
        "    enhanced_magnitude = np.maximum(magnitude - noise_profile, 0)\n",
        "    return librosa.istft(enhanced_magnitude * np.exp(1j * phase))\n",
        "\n",
        "cleaned_audio = spectral_subtraction(reduced_noise)\n",
        "\n",
        "# Adaptive Gain Increase (Normalize & Amplify)\n",
        "def adaptive_gain(audio, target_dB=-20):\n",
        "    rms = np.sqrt(np.mean(audio ** 2))\n",
        "    scalar = 10 ** ((target_dB - 20 * np.log10(rms)) / 20)\n",
        "    return np.clip(audio * scalar, -1, 1)  # Prevent clipping\n",
        "\n",
        "final_audio = adaptive_gain(cleaned_audio)\n",
        "\n",
        "# Save the cleaned bird sound\n",
        "output_file = \"bird_sounds_extracted_enhanced.wav\"\n",
        "sf.write(output_file, final_audio, sr)\n",
        "\n",
        "print(f\"Processed audio saved as {output_file}\")\n"
      ],
      "metadata": {
        "colab": {
          "base_uri": "https://localhost:8080/"
        },
        "id": "W9ncxE78iXn1",
        "outputId": "4a5454b8-2de6-4bb2-84f7-f739b7e2453d"
      },
      "execution_count": 4,
      "outputs": [
        {
          "output_type": "stream",
          "name": "stdout",
          "text": [
            "Processed audio saved as bird_sounds_extracted_enhanced.wav\n"
          ]
        }
      ]
    },
    {
      "cell_type": "code",
      "source": [
        "import librosa\n",
        "import librosa.display\n",
        "import numpy as np\n",
        "import noisereduce as nr\n",
        "import scipy.signal as signal\n",
        "import soundfile as sf\n",
        "\n",
        "# Load the full 1-hour audio\n",
        "file_path = \"/content/R1023_20231115_060003.wav\"\n",
        "y, sr = librosa.load(file_path, sr=None, duration=None)  # Ensure full duration is loaded\n",
        "\n",
        "# Bandpass Filter (Preserves More Sound)\n",
        "lowcut = 1000\n",
        "highcut = 8000\n",
        "\n",
        "def bandpass_filter(data, sr, lowcut, highcut, order=3):  # Lower order to preserve sound\n",
        "    nyquist = 0.5 * sr\n",
        "    low = lowcut / nyquist\n",
        "    high = highcut / nyquist\n",
        "    b, a = signal.butter(order, [low, high], btype=\"band\")\n",
        "    return signal.filtfilt(b, a, data)\n",
        "\n",
        "filtered_audio = bandpass_filter(y, sr, lowcut, highcut)\n",
        "\n",
        "# Noise Reduction with Less Aggressive Reduction\n",
        "reduced_noise = nr.reduce_noise(y=filtered_audio, sr=sr, prop_decrease=0.7)  # Less aggressive\n",
        "\n",
        "# Spectral Subtraction (Avoid Over-Filtering)\n",
        "def spectral_subtraction(audio, noise_factor=0.02):  # Reduce noise factor\n",
        "    stft = librosa.stft(audio, n_fft=2048, hop_length=512)\n",
        "    magnitude, phase = np.abs(stft), np.angle(stft)\n",
        "    noise_profile = np.mean(magnitude, axis=1, keepdims=True) * noise_factor\n",
        "    enhanced_magnitude = np.maximum(magnitude - noise_profile, 0)\n",
        "    return librosa.istft(enhanced_magnitude * np.exp(1j * phase), hop_length=512)  # Match hop_length\n",
        "\n",
        "cleaned_audio = spectral_subtraction(reduced_noise)\n",
        "\n",
        "# Adaptive Gain (Preserve Full Audio Length)\n",
        "def adaptive_gain(audio, target_dB=-25):  # Reduce gain to avoid clipping\n",
        "    rms = np.sqrt(np.mean(audio ** 2))\n",
        "    scalar = 10 ** ((target_dB - 20 * np.log10(rms)) / 20)\n",
        "    return np.clip(audio * scalar, -1, 1)\n",
        "\n",
        "final_audio = adaptive_gain(cleaned_audio)\n",
        "\n",
        "# Ensure the Output is the Same Length as Input\n",
        "if len(final_audio) < len(y):\n",
        "    padding = np.zeros(len(y) - len(final_audio))\n",
        "    final_audio = np.concatenate((final_audio, padding))\n",
        "\n",
        "# Save the fixed file\n",
        "output_file = \"bird_sounds_extracted_full.wav\"\n",
        "sf.write(output_file, final_audio, sr)\n",
        "\n",
        "print(f\"Processed full 1-hour audio saved as {output_file}\")\n"
      ],
      "metadata": {
        "id": "gXy5CbtJjEjB"
      },
      "execution_count": null,
      "outputs": []
    }
  ]
}